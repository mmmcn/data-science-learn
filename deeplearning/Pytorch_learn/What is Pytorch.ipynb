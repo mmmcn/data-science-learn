{
 "cells": [
  {
   "cell_type": "code",
   "execution_count": 1,
   "metadata": {},
   "outputs": [],
   "source": [
    "import torch"
   ]
  },
  {
   "cell_type": "code",
   "execution_count": 2,
   "metadata": {},
   "outputs": [
    {
     "name": "stdout",
     "output_type": "stream",
     "text": [
      "tensor([[5.1429e-39, 4.2246e-39, 1.0286e-38],\n",
      "        [1.0653e-38, 1.0194e-38, 8.4490e-39],\n",
      "        [1.0469e-38, 9.3674e-39, 9.9184e-39],\n",
      "        [8.7245e-39, 9.2755e-39, 8.9082e-39],\n",
      "        [9.9184e-39, 8.4490e-39, 9.6429e-39]])\n"
     ]
    }
   ],
   "source": [
    "# Construct a 5x3 matrix,uninitialized\n",
    "x = torch.empty(5, 3)\n",
    "print(x)"
   ]
  },
  {
   "cell_type": "code",
   "execution_count": 3,
   "metadata": {},
   "outputs": [
    {
     "name": "stdout",
     "output_type": "stream",
     "text": [
      "tensor([[0.0215, 0.9107, 0.9714],\n",
      "        [0.9785, 0.4207, 0.8198],\n",
      "        [0.3898, 0.5895, 0.7870],\n",
      "        [0.9981, 0.3753, 0.3596],\n",
      "        [0.2431, 0.2752, 0.6794]])\n"
     ]
    }
   ],
   "source": [
    "# Construct a randomly initialized matrix\n",
    "x = torch.rand(5, 3)\n",
    "print(x)"
   ]
  },
  {
   "cell_type": "code",
   "execution_count": 5,
   "metadata": {},
   "outputs": [
    {
     "name": "stdout",
     "output_type": "stream",
     "text": [
      "tensor([[-1.0093, -0.3426,  1.2647],\n",
      "        [-0.4868, -0.4671,  0.6136],\n",
      "        [ 1.0208, -0.3877, -0.4818],\n",
      "        [ 0.8627, -1.4403, -1.0268],\n",
      "        [ 0.3501,  0.2876, -1.2152]])\n"
     ]
    }
   ],
   "source": [
    "# Construct a tensor filled with random numbers from a normal distribution\n",
    "# with mean `0` and variance `1` (also called the standard normal\n",
    "# distribution).\n",
    "x = torch.randn(5, 3)\n",
    "print(x)"
   ]
  },
  {
   "cell_type": "code",
   "execution_count": 6,
   "metadata": {},
   "outputs": [
    {
     "name": "stdout",
     "output_type": "stream",
     "text": [
      "tensor([[0, 0, 0],\n",
      "        [0, 0, 0],\n",
      "        [0, 0, 0],\n",
      "        [0, 0, 0],\n",
      "        [0, 0, 0]])\n"
     ]
    }
   ],
   "source": [
    "# Construct a matrix filled zeros and of dtype long:\n",
    "x = torch.zeros(5, 3, dtype=torch.long)\n",
    "print(x)"
   ]
  },
  {
   "cell_type": "code",
   "execution_count": 10,
   "metadata": {},
   "outputs": [
    {
     "data": {
      "text/plain": [
       "torch.int64"
      ]
     },
     "execution_count": 10,
     "metadata": {},
     "output_type": "execute_result"
    }
   ],
   "source": [
    "x.new_ones((5, 3)).dtype   # new_ones()方法重用了输入Tensor的属性， 可以自己更改属性"
   ]
  },
  {
   "cell_type": "code",
   "execution_count": 12,
   "metadata": {},
   "outputs": [
    {
     "data": {
      "text/plain": [
       "tensor([[ 0.2416,  0.2961,  1.0952],\n",
       "        [ 1.0327,  1.1137,  1.8395],\n",
       "        [ 0.7829,  0.4558,  0.9509],\n",
       "        [-0.1997, -1.4928, -0.1038],\n",
       "        [-2.3870,  1.0078,  0.6317]])"
      ]
     },
     "execution_count": 12,
     "metadata": {},
     "output_type": "execute_result"
    }
   ],
   "source": [
    "torch.randn_like(x, dtype=torch.float)  # 返回与x同样size的tensor"
   ]
  },
  {
   "cell_type": "markdown",
   "metadata": {},
   "source": [
    "`torch.size`实际为一个元组，支持所有元组的操作"
   ]
  },
  {
   "cell_type": "code",
   "execution_count": 16,
   "metadata": {},
   "outputs": [
    {
     "data": {
      "text/plain": [
       "(5, 3)"
      ]
     },
     "execution_count": 16,
     "metadata": {},
     "output_type": "execute_result"
    }
   ],
   "source": [
    "x.size()[0], x.size()[1]"
   ]
  },
  {
   "cell_type": "markdown",
   "metadata": {},
   "source": [
    "Tensor的一些操作"
   ]
  },
  {
   "cell_type": "code",
   "execution_count": 17,
   "metadata": {},
   "outputs": [
    {
     "name": "stdout",
     "output_type": "stream",
     "text": [
      "tensor([[0.5788, 0.2184, 0.7907],\n",
      "        [0.3803, 0.0891, 0.4541],\n",
      "        [0.7414, 0.2214, 0.3084],\n",
      "        [0.0484, 0.8711, 0.6190],\n",
      "        [0.9230, 0.9753, 0.1508]])\n",
      "tensor([[0.5788, 0.2184, 0.7907],\n",
      "        [0.3803, 0.0891, 0.4541],\n",
      "        [0.7414, 0.2214, 0.3084],\n",
      "        [0.0484, 0.8711, 0.6190],\n",
      "        [0.9230, 0.9753, 0.1508]])\n",
      "tensor([[0.5788, 0.2184, 0.7907],\n",
      "        [0.3803, 0.0891, 0.4541],\n",
      "        [0.7414, 0.2214, 0.3084],\n",
      "        [0.0484, 0.8711, 0.6190],\n",
      "        [0.9230, 0.9753, 0.1508]])\n"
     ]
    }
   ],
   "source": [
    "# tensor的几种add element-wise操作\n",
    "y = torch.rand(5, 3)\n",
    "print(x + y)\n",
    "\n",
    "print(torch.add(x, y))\n",
    "\n",
    "result = torch.empty(5, 3)\n",
    "torch.add(x, y, out=result)\n",
    "print(result)"
   ]
  },
  {
   "cell_type": "code",
   "execution_count": 19,
   "metadata": {},
   "outputs": [
    {
     "name": "stdout",
     "output_type": "stream",
     "text": [
      "tensor([[0, 0, 0],\n",
      "        [0, 0, 0],\n",
      "        [0, 0, 0],\n",
      "        [0, 0, 0],\n",
      "        [0, 0, 0]])\n",
      "tensor([[0.5788, 0.2184, 0.7907],\n",
      "        [0.3803, 0.0891, 0.4541],\n",
      "        [0.7414, 0.2214, 0.3084],\n",
      "        [0.0484, 0.8711, 0.6190],\n",
      "        [0.9230, 0.9753, 0.1508]])\n"
     ]
    }
   ],
   "source": [
    "print(x)\n",
    "print(y)"
   ]
  },
  {
   "cell_type": "code",
   "execution_count": 21,
   "metadata": {},
   "outputs": [
    {
     "name": "stdout",
     "output_type": "stream",
     "text": [
      "tensor([[ 1.2527, -0.7031, -2.2256],\n",
      "        [ 0.7419,  2.2049,  0.1413],\n",
      "        [ 0.7078,  0.8888, -0.7644],\n",
      "        [-1.1713, -2.4900, -0.9809],\n",
      "        [-0.9715,  0.3010, -2.7172]])\n"
     ]
    }
   ],
   "source": [
    "x = torch.randn(5, 3)\n",
    "print(x)"
   ]
  },
  {
   "cell_type": "code",
   "execution_count": 22,
   "metadata": {},
   "outputs": [
    {
     "name": "stdout",
     "output_type": "stream",
     "text": [
      "tensor([[0.5788, 0.2184, 0.7907],\n",
      "        [0.3803, 0.0891, 0.4541],\n",
      "        [0.7414, 0.2214, 0.3084],\n",
      "        [0.0484, 0.8711, 0.6190],\n",
      "        [0.9230, 0.9753, 0.1508]])\n",
      "tensor([[ 1.8315, -0.4847, -1.4349],\n",
      "        [ 1.1222,  2.2940,  0.5954],\n",
      "        [ 1.4492,  1.1102, -0.4560],\n",
      "        [-1.1229, -1.6188, -0.3619],\n",
      "        [-0.0485,  1.2762, -2.5664]])\n"
     ]
    }
   ],
   "source": [
    "y.add(x)\n",
    "print(y)\n",
    "y.add_(x)\n",
    "print(y)"
   ]
  },
  {
   "cell_type": "markdown",
   "metadata": {},
   "source": [
    "重整tensor的形状  \n",
    "use `torch.view`"
   ]
  },
  {
   "cell_type": "code",
   "execution_count": 24,
   "metadata": {},
   "outputs": [
    {
     "name": "stdout",
     "output_type": "stream",
     "text": [
      "torch.Size([4, 4]) torch.Size([16]) torch.Size([2, 8])\n"
     ]
    }
   ],
   "source": [
    "x = torch.randn(4, 4)\n",
    "y = x.view(16)\n",
    "z = x.view(-1, 8)   # the size -1 is inferred from other dimensions\n",
    "print(x.size(), y.size(), z.size())"
   ]
  },
  {
   "cell_type": "markdown",
   "metadata": {},
   "source": [
    "对于仅有一个元素的tensor，使用`.item()`得到该元素的值(as a Python number)"
   ]
  },
  {
   "cell_type": "code",
   "execution_count": 27,
   "metadata": {},
   "outputs": [
    {
     "name": "stdout",
     "output_type": "stream",
     "text": [
      "tensor([-0.3651])\n",
      "-0.365104079246521\n"
     ]
    }
   ],
   "source": [
    "x = torch.randn(1)\n",
    "print(x)\n",
    "print(x.item())"
   ]
  },
  {
   "cell_type": "markdown",
   "metadata": {},
   "source": [
    "# Numpy形式与Tensor形式的转换\n",
    "Tensor和NumPy数组将共享它们的底层内存位置(CPU)，改变其中一个就会改变另一个。"
   ]
  },
  {
   "cell_type": "code",
   "execution_count": 28,
   "metadata": {},
   "outputs": [
    {
     "name": "stdout",
     "output_type": "stream",
     "text": [
      "tensor([1., 1., 1., 1., 1.])\n"
     ]
    }
   ],
   "source": [
    "a = torch.ones(5)\n",
    "print(a)"
   ]
  },
  {
   "cell_type": "code",
   "execution_count": 29,
   "metadata": {},
   "outputs": [
    {
     "name": "stdout",
     "output_type": "stream",
     "text": [
      "[1. 1. 1. 1. 1.]\n"
     ]
    }
   ],
   "source": [
    "# Tensor ---> Numpy\n",
    "b = a.numpy()\n",
    "print(b)"
   ]
  },
  {
   "cell_type": "code",
   "execution_count": 30,
   "metadata": {},
   "outputs": [
    {
     "name": "stdout",
     "output_type": "stream",
     "text": [
      "tensor([2., 2., 2., 2., 2.])\n",
      "[2. 2. 2. 2. 2.]\n"
     ]
    }
   ],
   "source": [
    "a.add_(1)\n",
    "print(a)\n",
    "print(b)    # a与b共享内存"
   ]
  },
  {
   "cell_type": "code",
   "execution_count": 31,
   "metadata": {},
   "outputs": [
    {
     "name": "stdout",
     "output_type": "stream",
     "text": [
      "[2. 2. 2. 2. 2.]\n",
      "tensor([2., 2., 2., 2., 2.], dtype=torch.float64)\n"
     ]
    }
   ],
   "source": [
    "# Numpy ---> Tensor\n",
    "import numpy as np\n",
    "a = np.ones(5)\n",
    "b = torch.from_numpy(a)\n",
    "np.add(a, 1, out=a)\n",
    "print(a)\n",
    "print(b)"
   ]
  },
  {
   "cell_type": "markdown",
   "metadata": {},
   "source": [
    "# cuda版本尚未安装"
   ]
  }
 ],
 "metadata": {
  "kernelspec": {
   "display_name": "Python [conda env:pytorch_cpu]",
   "language": "python",
   "name": "conda-env-pytorch_cpu-py"
  },
  "language_info": {
   "codemirror_mode": {
    "name": "ipython",
    "version": 3
   },
   "file_extension": ".py",
   "mimetype": "text/x-python",
   "name": "python",
   "nbconvert_exporter": "python",
   "pygments_lexer": "ipython3",
   "version": "3.7.7"
  }
 },
 "nbformat": 4,
 "nbformat_minor": 2
}
